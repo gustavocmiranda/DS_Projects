{
  "cells": [
    {
      "cell_type": "markdown",
      "metadata": {
        "id": "SDSU8cR41J1r"
      },
      "source": [
        "### Importing libraries and data"
      ]
    },
    {
      "cell_type": "code",
      "source": [
        "from google.colab import drive\n",
        "drive.mount('/content/drive')"
      ],
      "metadata": {
        "id": "5ombb0HHkiAW",
        "outputId": "2a1c6f42-17a9-4a1e-b7e0-d15239478e81",
        "colab": {
          "base_uri": "https://localhost:8080/"
        }
      },
      "execution_count": 1,
      "outputs": [
        {
          "output_type": "stream",
          "name": "stdout",
          "text": [
            "Mounted at /content/drive\n"
          ]
        }
      ]
    },
    {
      "cell_type": "code",
      "execution_count": 2,
      "metadata": {
        "id": "WjFQKlrc1J1r"
      },
      "outputs": [],
      "source": [
        "import pandas as pd\n",
        "import numpy as np\n",
        "import sklearn as sk\n",
        "import seaborn as sns\n",
        "import matplotlib.pyplot as plt"
      ]
    },
    {
      "cell_type": "code",
      "execution_count": 102,
      "metadata": {
        "id": "UIxzwgQf1J1s"
      },
      "outputs": [],
      "source": [
        "final_test_data = pd.read_csv(\"/content/drive/MyDrive/Data/test.csv\")\n",
        "train_data = pd.read_csv(\"/content/drive/MyDrive/Data/train.csv\")"
      ]
    },
    {
      "cell_type": "markdown",
      "metadata": {
        "id": "TYuQsucJ1J1s"
      },
      "source": [
        "### Visualizing data and basic statics"
      ]
    },
    {
      "cell_type": "code",
      "source": [
        "train_data.head()"
      ],
      "metadata": {
        "id": "NGoonJxKk1d1",
        "outputId": "201c8664-9409-4b09-eeaf-dc250fd3c899",
        "colab": {
          "base_uri": "https://localhost:8080/",
          "height": 221
        }
      },
      "execution_count": null,
      "outputs": [
        {
          "output_type": "execute_result",
          "data": {
            "text/plain": [
              "   id Product ID Type  Air temperature [K]  Process temperature [K]  \\\n",
              "0   0     L50096    L                300.6                    309.6   \n",
              "1   1     M20343    M                302.6                    312.1   \n",
              "2   2     L49454    L                299.3                    308.5   \n",
              "3   3     L53355    L                301.0                    310.9   \n",
              "4   4     M24050    M                298.0                    309.0   \n",
              "\n",
              "   Rotational speed [rpm]  Torque [Nm]  Tool wear [min]  Machine failure  TWF  \\\n",
              "0                    1596         36.1              140                0    0   \n",
              "1                    1759         29.1              200                0    0   \n",
              "2                    1805         26.5               25                0    0   \n",
              "3                    1524         44.3              197                0    0   \n",
              "4                    1641         35.4               34                0    0   \n",
              "\n",
              "   HDF  PWF  OSF  RNF  \n",
              "0    0    0    0    0  \n",
              "1    0    0    0    0  \n",
              "2    0    0    0    0  \n",
              "3    0    0    0    0  \n",
              "4    0    0    0    0  "
            ],
            "text/html": [
              "\n",
              "  <div id=\"df-46090b62-f6ca-4ca1-9ed6-70a4e7a6b004\" class=\"colab-df-container\">\n",
              "    <div>\n",
              "<style scoped>\n",
              "    .dataframe tbody tr th:only-of-type {\n",
              "        vertical-align: middle;\n",
              "    }\n",
              "\n",
              "    .dataframe tbody tr th {\n",
              "        vertical-align: top;\n",
              "    }\n",
              "\n",
              "    .dataframe thead th {\n",
              "        text-align: right;\n",
              "    }\n",
              "</style>\n",
              "<table border=\"1\" class=\"dataframe\">\n",
              "  <thead>\n",
              "    <tr style=\"text-align: right;\">\n",
              "      <th></th>\n",
              "      <th>id</th>\n",
              "      <th>Product ID</th>\n",
              "      <th>Type</th>\n",
              "      <th>Air temperature [K]</th>\n",
              "      <th>Process temperature [K]</th>\n",
              "      <th>Rotational speed [rpm]</th>\n",
              "      <th>Torque [Nm]</th>\n",
              "      <th>Tool wear [min]</th>\n",
              "      <th>Machine failure</th>\n",
              "      <th>TWF</th>\n",
              "      <th>HDF</th>\n",
              "      <th>PWF</th>\n",
              "      <th>OSF</th>\n",
              "      <th>RNF</th>\n",
              "    </tr>\n",
              "  </thead>\n",
              "  <tbody>\n",
              "    <tr>\n",
              "      <th>0</th>\n",
              "      <td>0</td>\n",
              "      <td>L50096</td>\n",
              "      <td>L</td>\n",
              "      <td>300.6</td>\n",
              "      <td>309.6</td>\n",
              "      <td>1596</td>\n",
              "      <td>36.1</td>\n",
              "      <td>140</td>\n",
              "      <td>0</td>\n",
              "      <td>0</td>\n",
              "      <td>0</td>\n",
              "      <td>0</td>\n",
              "      <td>0</td>\n",
              "      <td>0</td>\n",
              "    </tr>\n",
              "    <tr>\n",
              "      <th>1</th>\n",
              "      <td>1</td>\n",
              "      <td>M20343</td>\n",
              "      <td>M</td>\n",
              "      <td>302.6</td>\n",
              "      <td>312.1</td>\n",
              "      <td>1759</td>\n",
              "      <td>29.1</td>\n",
              "      <td>200</td>\n",
              "      <td>0</td>\n",
              "      <td>0</td>\n",
              "      <td>0</td>\n",
              "      <td>0</td>\n",
              "      <td>0</td>\n",
              "      <td>0</td>\n",
              "    </tr>\n",
              "    <tr>\n",
              "      <th>2</th>\n",
              "      <td>2</td>\n",
              "      <td>L49454</td>\n",
              "      <td>L</td>\n",
              "      <td>299.3</td>\n",
              "      <td>308.5</td>\n",
              "      <td>1805</td>\n",
              "      <td>26.5</td>\n",
              "      <td>25</td>\n",
              "      <td>0</td>\n",
              "      <td>0</td>\n",
              "      <td>0</td>\n",
              "      <td>0</td>\n",
              "      <td>0</td>\n",
              "      <td>0</td>\n",
              "    </tr>\n",
              "    <tr>\n",
              "      <th>3</th>\n",
              "      <td>3</td>\n",
              "      <td>L53355</td>\n",
              "      <td>L</td>\n",
              "      <td>301.0</td>\n",
              "      <td>310.9</td>\n",
              "      <td>1524</td>\n",
              "      <td>44.3</td>\n",
              "      <td>197</td>\n",
              "      <td>0</td>\n",
              "      <td>0</td>\n",
              "      <td>0</td>\n",
              "      <td>0</td>\n",
              "      <td>0</td>\n",
              "      <td>0</td>\n",
              "    </tr>\n",
              "    <tr>\n",
              "      <th>4</th>\n",
              "      <td>4</td>\n",
              "      <td>M24050</td>\n",
              "      <td>M</td>\n",
              "      <td>298.0</td>\n",
              "      <td>309.0</td>\n",
              "      <td>1641</td>\n",
              "      <td>35.4</td>\n",
              "      <td>34</td>\n",
              "      <td>0</td>\n",
              "      <td>0</td>\n",
              "      <td>0</td>\n",
              "      <td>0</td>\n",
              "      <td>0</td>\n",
              "      <td>0</td>\n",
              "    </tr>\n",
              "  </tbody>\n",
              "</table>\n",
              "</div>\n",
              "    <div class=\"colab-df-buttons\">\n",
              "\n",
              "  <div class=\"colab-df-container\">\n",
              "    <button class=\"colab-df-convert\" onclick=\"convertToInteractive('df-46090b62-f6ca-4ca1-9ed6-70a4e7a6b004')\"\n",
              "            title=\"Convert this dataframe to an interactive table.\"\n",
              "            style=\"display:none;\">\n",
              "\n",
              "  <svg xmlns=\"http://www.w3.org/2000/svg\" height=\"24px\" viewBox=\"0 -960 960 960\">\n",
              "    <path d=\"M120-120v-720h720v720H120Zm60-500h600v-160H180v160Zm220 220h160v-160H400v160Zm0 220h160v-160H400v160ZM180-400h160v-160H180v160Zm440 0h160v-160H620v160ZM180-180h160v-160H180v160Zm440 0h160v-160H620v160Z\"/>\n",
              "  </svg>\n",
              "    </button>\n",
              "\n",
              "  <style>\n",
              "    .colab-df-container {\n",
              "      display:flex;\n",
              "      gap: 12px;\n",
              "    }\n",
              "\n",
              "    .colab-df-convert {\n",
              "      background-color: #E8F0FE;\n",
              "      border: none;\n",
              "      border-radius: 50%;\n",
              "      cursor: pointer;\n",
              "      display: none;\n",
              "      fill: #1967D2;\n",
              "      height: 32px;\n",
              "      padding: 0 0 0 0;\n",
              "      width: 32px;\n",
              "    }\n",
              "\n",
              "    .colab-df-convert:hover {\n",
              "      background-color: #E2EBFA;\n",
              "      box-shadow: 0px 1px 2px rgba(60, 64, 67, 0.3), 0px 1px 3px 1px rgba(60, 64, 67, 0.15);\n",
              "      fill: #174EA6;\n",
              "    }\n",
              "\n",
              "    .colab-df-buttons div {\n",
              "      margin-bottom: 4px;\n",
              "    }\n",
              "\n",
              "    [theme=dark] .colab-df-convert {\n",
              "      background-color: #3B4455;\n",
              "      fill: #D2E3FC;\n",
              "    }\n",
              "\n",
              "    [theme=dark] .colab-df-convert:hover {\n",
              "      background-color: #434B5C;\n",
              "      box-shadow: 0px 1px 3px 1px rgba(0, 0, 0, 0.15);\n",
              "      filter: drop-shadow(0px 1px 2px rgba(0, 0, 0, 0.3));\n",
              "      fill: #FFFFFF;\n",
              "    }\n",
              "  </style>\n",
              "\n",
              "    <script>\n",
              "      const buttonEl =\n",
              "        document.querySelector('#df-46090b62-f6ca-4ca1-9ed6-70a4e7a6b004 button.colab-df-convert');\n",
              "      buttonEl.style.display =\n",
              "        google.colab.kernel.accessAllowed ? 'block' : 'none';\n",
              "\n",
              "      async function convertToInteractive(key) {\n",
              "        const element = document.querySelector('#df-46090b62-f6ca-4ca1-9ed6-70a4e7a6b004');\n",
              "        const dataTable =\n",
              "          await google.colab.kernel.invokeFunction('convertToInteractive',\n",
              "                                                    [key], {});\n",
              "        if (!dataTable) return;\n",
              "\n",
              "        const docLinkHtml = 'Like what you see? Visit the ' +\n",
              "          '<a target=\"_blank\" href=https://colab.research.google.com/notebooks/data_table.ipynb>data table notebook</a>'\n",
              "          + ' to learn more about interactive tables.';\n",
              "        element.innerHTML = '';\n",
              "        dataTable['output_type'] = 'display_data';\n",
              "        await google.colab.output.renderOutput(dataTable, element);\n",
              "        const docLink = document.createElement('div');\n",
              "        docLink.innerHTML = docLinkHtml;\n",
              "        element.appendChild(docLink);\n",
              "      }\n",
              "    </script>\n",
              "  </div>\n",
              "\n",
              "\n",
              "<div id=\"df-5b646030-01c4-4dde-920d-5e3f461329ae\">\n",
              "  <button class=\"colab-df-quickchart\" onclick=\"quickchart('df-5b646030-01c4-4dde-920d-5e3f461329ae')\"\n",
              "            title=\"Suggest charts\"\n",
              "            style=\"display:none;\">\n",
              "\n",
              "<svg xmlns=\"http://www.w3.org/2000/svg\" height=\"24px\"viewBox=\"0 0 24 24\"\n",
              "     width=\"24px\">\n",
              "    <g>\n",
              "        <path d=\"M19 3H5c-1.1 0-2 .9-2 2v14c0 1.1.9 2 2 2h14c1.1 0 2-.9 2-2V5c0-1.1-.9-2-2-2zM9 17H7v-7h2v7zm4 0h-2V7h2v10zm4 0h-2v-4h2v4z\"/>\n",
              "    </g>\n",
              "</svg>\n",
              "  </button>\n",
              "\n",
              "<style>\n",
              "  .colab-df-quickchart {\n",
              "      --bg-color: #E8F0FE;\n",
              "      --fill-color: #1967D2;\n",
              "      --hover-bg-color: #E2EBFA;\n",
              "      --hover-fill-color: #174EA6;\n",
              "      --disabled-fill-color: #AAA;\n",
              "      --disabled-bg-color: #DDD;\n",
              "  }\n",
              "\n",
              "  [theme=dark] .colab-df-quickchart {\n",
              "      --bg-color: #3B4455;\n",
              "      --fill-color: #D2E3FC;\n",
              "      --hover-bg-color: #434B5C;\n",
              "      --hover-fill-color: #FFFFFF;\n",
              "      --disabled-bg-color: #3B4455;\n",
              "      --disabled-fill-color: #666;\n",
              "  }\n",
              "\n",
              "  .colab-df-quickchart {\n",
              "    background-color: var(--bg-color);\n",
              "    border: none;\n",
              "    border-radius: 50%;\n",
              "    cursor: pointer;\n",
              "    display: none;\n",
              "    fill: var(--fill-color);\n",
              "    height: 32px;\n",
              "    padding: 0;\n",
              "    width: 32px;\n",
              "  }\n",
              "\n",
              "  .colab-df-quickchart:hover {\n",
              "    background-color: var(--hover-bg-color);\n",
              "    box-shadow: 0 1px 2px rgba(60, 64, 67, 0.3), 0 1px 3px 1px rgba(60, 64, 67, 0.15);\n",
              "    fill: var(--button-hover-fill-color);\n",
              "  }\n",
              "\n",
              "  .colab-df-quickchart-complete:disabled,\n",
              "  .colab-df-quickchart-complete:disabled:hover {\n",
              "    background-color: var(--disabled-bg-color);\n",
              "    fill: var(--disabled-fill-color);\n",
              "    box-shadow: none;\n",
              "  }\n",
              "\n",
              "  .colab-df-spinner {\n",
              "    border: 2px solid var(--fill-color);\n",
              "    border-color: transparent;\n",
              "    border-bottom-color: var(--fill-color);\n",
              "    animation:\n",
              "      spin 1s steps(1) infinite;\n",
              "  }\n",
              "\n",
              "  @keyframes spin {\n",
              "    0% {\n",
              "      border-color: transparent;\n",
              "      border-bottom-color: var(--fill-color);\n",
              "      border-left-color: var(--fill-color);\n",
              "    }\n",
              "    20% {\n",
              "      border-color: transparent;\n",
              "      border-left-color: var(--fill-color);\n",
              "      border-top-color: var(--fill-color);\n",
              "    }\n",
              "    30% {\n",
              "      border-color: transparent;\n",
              "      border-left-color: var(--fill-color);\n",
              "      border-top-color: var(--fill-color);\n",
              "      border-right-color: var(--fill-color);\n",
              "    }\n",
              "    40% {\n",
              "      border-color: transparent;\n",
              "      border-right-color: var(--fill-color);\n",
              "      border-top-color: var(--fill-color);\n",
              "    }\n",
              "    60% {\n",
              "      border-color: transparent;\n",
              "      border-right-color: var(--fill-color);\n",
              "    }\n",
              "    80% {\n",
              "      border-color: transparent;\n",
              "      border-right-color: var(--fill-color);\n",
              "      border-bottom-color: var(--fill-color);\n",
              "    }\n",
              "    90% {\n",
              "      border-color: transparent;\n",
              "      border-bottom-color: var(--fill-color);\n",
              "    }\n",
              "  }\n",
              "</style>\n",
              "\n",
              "  <script>\n",
              "    async function quickchart(key) {\n",
              "      const quickchartButtonEl =\n",
              "        document.querySelector('#' + key + ' button');\n",
              "      quickchartButtonEl.disabled = true;  // To prevent multiple clicks.\n",
              "      quickchartButtonEl.classList.add('colab-df-spinner');\n",
              "      try {\n",
              "        const charts = await google.colab.kernel.invokeFunction(\n",
              "            'suggestCharts', [key], {});\n",
              "      } catch (error) {\n",
              "        console.error('Error during call to suggestCharts:', error);\n",
              "      }\n",
              "      quickchartButtonEl.classList.remove('colab-df-spinner');\n",
              "      quickchartButtonEl.classList.add('colab-df-quickchart-complete');\n",
              "    }\n",
              "    (() => {\n",
              "      let quickchartButtonEl =\n",
              "        document.querySelector('#df-5b646030-01c4-4dde-920d-5e3f461329ae button');\n",
              "      quickchartButtonEl.style.display =\n",
              "        google.colab.kernel.accessAllowed ? 'block' : 'none';\n",
              "    })();\n",
              "  </script>\n",
              "</div>\n",
              "\n",
              "    </div>\n",
              "  </div>\n"
            ],
            "application/vnd.google.colaboratory.intrinsic+json": {
              "type": "dataframe",
              "variable_name": "train_data"
            }
          },
          "metadata": {},
          "execution_count": 40
        }
      ]
    },
    {
      "cell_type": "code",
      "execution_count": null,
      "metadata": {
        "colab": {
          "base_uri": "https://localhost:8080/",
          "height": 351
        },
        "id": "gv_GtFcE1J1s",
        "outputId": "094e3c70-ee23-49c9-951e-12e72fa54409"
      },
      "outputs": [
        {
          "output_type": "execute_result",
          "data": {
            "text/plain": [
              "                  id  Air temperature [K]  Process temperature [K]  \\\n",
              "count  136429.000000        136429.000000            136429.000000   \n",
              "mean    68214.000000           299.862776               309.941070   \n",
              "std     39383.804275             1.862247                 1.385173   \n",
              "min         0.000000           295.300000               305.800000   \n",
              "25%     34107.000000           298.300000               308.700000   \n",
              "50%     68214.000000           300.000000               310.000000   \n",
              "75%    102321.000000           301.200000               310.900000   \n",
              "max    136428.000000           304.400000               313.800000   \n",
              "\n",
              "       Rotational speed [rpm]    Torque [Nm]  Tool wear [min]  \\\n",
              "count           136429.000000  136429.000000    136429.000000   \n",
              "mean              1520.331110      40.348643       104.408901   \n",
              "std                138.736632       8.502229        63.965040   \n",
              "min               1181.000000       3.800000         0.000000   \n",
              "25%               1432.000000      34.600000        48.000000   \n",
              "50%               1493.000000      40.400000       106.000000   \n",
              "75%               1580.000000      46.100000       159.000000   \n",
              "max               2886.000000      76.600000       253.000000   \n",
              "\n",
              "       Machine failure            TWF            HDF            PWF  \\\n",
              "count    136429.000000  136429.000000  136429.000000  136429.000000   \n",
              "mean          0.015744       0.001554       0.005160       0.002397   \n",
              "std           0.124486       0.039389       0.071649       0.048899   \n",
              "min           0.000000       0.000000       0.000000       0.000000   \n",
              "25%           0.000000       0.000000       0.000000       0.000000   \n",
              "50%           0.000000       0.000000       0.000000       0.000000   \n",
              "75%           0.000000       0.000000       0.000000       0.000000   \n",
              "max           1.000000       1.000000       1.000000       1.000000   \n",
              "\n",
              "                 OSF            RNF  \n",
              "count  136429.000000  136429.000000  \n",
              "mean        0.003958       0.002258  \n",
              "std         0.062789       0.047461  \n",
              "min         0.000000       0.000000  \n",
              "25%         0.000000       0.000000  \n",
              "50%         0.000000       0.000000  \n",
              "75%         0.000000       0.000000  \n",
              "max         1.000000       1.000000  "
            ],
            "text/html": [
              "\n",
              "  <div id=\"df-e7b8993d-7335-42ef-afc8-08cbd3cc06d9\" class=\"colab-df-container\">\n",
              "    <div>\n",
              "<style scoped>\n",
              "    .dataframe tbody tr th:only-of-type {\n",
              "        vertical-align: middle;\n",
              "    }\n",
              "\n",
              "    .dataframe tbody tr th {\n",
              "        vertical-align: top;\n",
              "    }\n",
              "\n",
              "    .dataframe thead th {\n",
              "        text-align: right;\n",
              "    }\n",
              "</style>\n",
              "<table border=\"1\" class=\"dataframe\">\n",
              "  <thead>\n",
              "    <tr style=\"text-align: right;\">\n",
              "      <th></th>\n",
              "      <th>id</th>\n",
              "      <th>Air temperature [K]</th>\n",
              "      <th>Process temperature [K]</th>\n",
              "      <th>Rotational speed [rpm]</th>\n",
              "      <th>Torque [Nm]</th>\n",
              "      <th>Tool wear [min]</th>\n",
              "      <th>Machine failure</th>\n",
              "      <th>TWF</th>\n",
              "      <th>HDF</th>\n",
              "      <th>PWF</th>\n",
              "      <th>OSF</th>\n",
              "      <th>RNF</th>\n",
              "    </tr>\n",
              "  </thead>\n",
              "  <tbody>\n",
              "    <tr>\n",
              "      <th>count</th>\n",
              "      <td>136429.000000</td>\n",
              "      <td>136429.000000</td>\n",
              "      <td>136429.000000</td>\n",
              "      <td>136429.000000</td>\n",
              "      <td>136429.000000</td>\n",
              "      <td>136429.000000</td>\n",
              "      <td>136429.000000</td>\n",
              "      <td>136429.000000</td>\n",
              "      <td>136429.000000</td>\n",
              "      <td>136429.000000</td>\n",
              "      <td>136429.000000</td>\n",
              "      <td>136429.000000</td>\n",
              "    </tr>\n",
              "    <tr>\n",
              "      <th>mean</th>\n",
              "      <td>68214.000000</td>\n",
              "      <td>299.862776</td>\n",
              "      <td>309.941070</td>\n",
              "      <td>1520.331110</td>\n",
              "      <td>40.348643</td>\n",
              "      <td>104.408901</td>\n",
              "      <td>0.015744</td>\n",
              "      <td>0.001554</td>\n",
              "      <td>0.005160</td>\n",
              "      <td>0.002397</td>\n",
              "      <td>0.003958</td>\n",
              "      <td>0.002258</td>\n",
              "    </tr>\n",
              "    <tr>\n",
              "      <th>std</th>\n",
              "      <td>39383.804275</td>\n",
              "      <td>1.862247</td>\n",
              "      <td>1.385173</td>\n",
              "      <td>138.736632</td>\n",
              "      <td>8.502229</td>\n",
              "      <td>63.965040</td>\n",
              "      <td>0.124486</td>\n",
              "      <td>0.039389</td>\n",
              "      <td>0.071649</td>\n",
              "      <td>0.048899</td>\n",
              "      <td>0.062789</td>\n",
              "      <td>0.047461</td>\n",
              "    </tr>\n",
              "    <tr>\n",
              "      <th>min</th>\n",
              "      <td>0.000000</td>\n",
              "      <td>295.300000</td>\n",
              "      <td>305.800000</td>\n",
              "      <td>1181.000000</td>\n",
              "      <td>3.800000</td>\n",
              "      <td>0.000000</td>\n",
              "      <td>0.000000</td>\n",
              "      <td>0.000000</td>\n",
              "      <td>0.000000</td>\n",
              "      <td>0.000000</td>\n",
              "      <td>0.000000</td>\n",
              "      <td>0.000000</td>\n",
              "    </tr>\n",
              "    <tr>\n",
              "      <th>25%</th>\n",
              "      <td>34107.000000</td>\n",
              "      <td>298.300000</td>\n",
              "      <td>308.700000</td>\n",
              "      <td>1432.000000</td>\n",
              "      <td>34.600000</td>\n",
              "      <td>48.000000</td>\n",
              "      <td>0.000000</td>\n",
              "      <td>0.000000</td>\n",
              "      <td>0.000000</td>\n",
              "      <td>0.000000</td>\n",
              "      <td>0.000000</td>\n",
              "      <td>0.000000</td>\n",
              "    </tr>\n",
              "    <tr>\n",
              "      <th>50%</th>\n",
              "      <td>68214.000000</td>\n",
              "      <td>300.000000</td>\n",
              "      <td>310.000000</td>\n",
              "      <td>1493.000000</td>\n",
              "      <td>40.400000</td>\n",
              "      <td>106.000000</td>\n",
              "      <td>0.000000</td>\n",
              "      <td>0.000000</td>\n",
              "      <td>0.000000</td>\n",
              "      <td>0.000000</td>\n",
              "      <td>0.000000</td>\n",
              "      <td>0.000000</td>\n",
              "    </tr>\n",
              "    <tr>\n",
              "      <th>75%</th>\n",
              "      <td>102321.000000</td>\n",
              "      <td>301.200000</td>\n",
              "      <td>310.900000</td>\n",
              "      <td>1580.000000</td>\n",
              "      <td>46.100000</td>\n",
              "      <td>159.000000</td>\n",
              "      <td>0.000000</td>\n",
              "      <td>0.000000</td>\n",
              "      <td>0.000000</td>\n",
              "      <td>0.000000</td>\n",
              "      <td>0.000000</td>\n",
              "      <td>0.000000</td>\n",
              "    </tr>\n",
              "    <tr>\n",
              "      <th>max</th>\n",
              "      <td>136428.000000</td>\n",
              "      <td>304.400000</td>\n",
              "      <td>313.800000</td>\n",
              "      <td>2886.000000</td>\n",
              "      <td>76.600000</td>\n",
              "      <td>253.000000</td>\n",
              "      <td>1.000000</td>\n",
              "      <td>1.000000</td>\n",
              "      <td>1.000000</td>\n",
              "      <td>1.000000</td>\n",
              "      <td>1.000000</td>\n",
              "      <td>1.000000</td>\n",
              "    </tr>\n",
              "  </tbody>\n",
              "</table>\n",
              "</div>\n",
              "    <div class=\"colab-df-buttons\">\n",
              "\n",
              "  <div class=\"colab-df-container\">\n",
              "    <button class=\"colab-df-convert\" onclick=\"convertToInteractive('df-e7b8993d-7335-42ef-afc8-08cbd3cc06d9')\"\n",
              "            title=\"Convert this dataframe to an interactive table.\"\n",
              "            style=\"display:none;\">\n",
              "\n",
              "  <svg xmlns=\"http://www.w3.org/2000/svg\" height=\"24px\" viewBox=\"0 -960 960 960\">\n",
              "    <path d=\"M120-120v-720h720v720H120Zm60-500h600v-160H180v160Zm220 220h160v-160H400v160Zm0 220h160v-160H400v160ZM180-400h160v-160H180v160Zm440 0h160v-160H620v160ZM180-180h160v-160H180v160Zm440 0h160v-160H620v160Z\"/>\n",
              "  </svg>\n",
              "    </button>\n",
              "\n",
              "  <style>\n",
              "    .colab-df-container {\n",
              "      display:flex;\n",
              "      gap: 12px;\n",
              "    }\n",
              "\n",
              "    .colab-df-convert {\n",
              "      background-color: #E8F0FE;\n",
              "      border: none;\n",
              "      border-radius: 50%;\n",
              "      cursor: pointer;\n",
              "      display: none;\n",
              "      fill: #1967D2;\n",
              "      height: 32px;\n",
              "      padding: 0 0 0 0;\n",
              "      width: 32px;\n",
              "    }\n",
              "\n",
              "    .colab-df-convert:hover {\n",
              "      background-color: #E2EBFA;\n",
              "      box-shadow: 0px 1px 2px rgba(60, 64, 67, 0.3), 0px 1px 3px 1px rgba(60, 64, 67, 0.15);\n",
              "      fill: #174EA6;\n",
              "    }\n",
              "\n",
              "    .colab-df-buttons div {\n",
              "      margin-bottom: 4px;\n",
              "    }\n",
              "\n",
              "    [theme=dark] .colab-df-convert {\n",
              "      background-color: #3B4455;\n",
              "      fill: #D2E3FC;\n",
              "    }\n",
              "\n",
              "    [theme=dark] .colab-df-convert:hover {\n",
              "      background-color: #434B5C;\n",
              "      box-shadow: 0px 1px 3px 1px rgba(0, 0, 0, 0.15);\n",
              "      filter: drop-shadow(0px 1px 2px rgba(0, 0, 0, 0.3));\n",
              "      fill: #FFFFFF;\n",
              "    }\n",
              "  </style>\n",
              "\n",
              "    <script>\n",
              "      const buttonEl =\n",
              "        document.querySelector('#df-e7b8993d-7335-42ef-afc8-08cbd3cc06d9 button.colab-df-convert');\n",
              "      buttonEl.style.display =\n",
              "        google.colab.kernel.accessAllowed ? 'block' : 'none';\n",
              "\n",
              "      async function convertToInteractive(key) {\n",
              "        const element = document.querySelector('#df-e7b8993d-7335-42ef-afc8-08cbd3cc06d9');\n",
              "        const dataTable =\n",
              "          await google.colab.kernel.invokeFunction('convertToInteractive',\n",
              "                                                    [key], {});\n",
              "        if (!dataTable) return;\n",
              "\n",
              "        const docLinkHtml = 'Like what you see? Visit the ' +\n",
              "          '<a target=\"_blank\" href=https://colab.research.google.com/notebooks/data_table.ipynb>data table notebook</a>'\n",
              "          + ' to learn more about interactive tables.';\n",
              "        element.innerHTML = '';\n",
              "        dataTable['output_type'] = 'display_data';\n",
              "        await google.colab.output.renderOutput(dataTable, element);\n",
              "        const docLink = document.createElement('div');\n",
              "        docLink.innerHTML = docLinkHtml;\n",
              "        element.appendChild(docLink);\n",
              "      }\n",
              "    </script>\n",
              "  </div>\n",
              "\n",
              "\n",
              "<div id=\"df-02e0a4f2-a53d-4e3f-a5f0-c2796b30c450\">\n",
              "  <button class=\"colab-df-quickchart\" onclick=\"quickchart('df-02e0a4f2-a53d-4e3f-a5f0-c2796b30c450')\"\n",
              "            title=\"Suggest charts\"\n",
              "            style=\"display:none;\">\n",
              "\n",
              "<svg xmlns=\"http://www.w3.org/2000/svg\" height=\"24px\"viewBox=\"0 0 24 24\"\n",
              "     width=\"24px\">\n",
              "    <g>\n",
              "        <path d=\"M19 3H5c-1.1 0-2 .9-2 2v14c0 1.1.9 2 2 2h14c1.1 0 2-.9 2-2V5c0-1.1-.9-2-2-2zM9 17H7v-7h2v7zm4 0h-2V7h2v10zm4 0h-2v-4h2v4z\"/>\n",
              "    </g>\n",
              "</svg>\n",
              "  </button>\n",
              "\n",
              "<style>\n",
              "  .colab-df-quickchart {\n",
              "      --bg-color: #E8F0FE;\n",
              "      --fill-color: #1967D2;\n",
              "      --hover-bg-color: #E2EBFA;\n",
              "      --hover-fill-color: #174EA6;\n",
              "      --disabled-fill-color: #AAA;\n",
              "      --disabled-bg-color: #DDD;\n",
              "  }\n",
              "\n",
              "  [theme=dark] .colab-df-quickchart {\n",
              "      --bg-color: #3B4455;\n",
              "      --fill-color: #D2E3FC;\n",
              "      --hover-bg-color: #434B5C;\n",
              "      --hover-fill-color: #FFFFFF;\n",
              "      --disabled-bg-color: #3B4455;\n",
              "      --disabled-fill-color: #666;\n",
              "  }\n",
              "\n",
              "  .colab-df-quickchart {\n",
              "    background-color: var(--bg-color);\n",
              "    border: none;\n",
              "    border-radius: 50%;\n",
              "    cursor: pointer;\n",
              "    display: none;\n",
              "    fill: var(--fill-color);\n",
              "    height: 32px;\n",
              "    padding: 0;\n",
              "    width: 32px;\n",
              "  }\n",
              "\n",
              "  .colab-df-quickchart:hover {\n",
              "    background-color: var(--hover-bg-color);\n",
              "    box-shadow: 0 1px 2px rgba(60, 64, 67, 0.3), 0 1px 3px 1px rgba(60, 64, 67, 0.15);\n",
              "    fill: var(--button-hover-fill-color);\n",
              "  }\n",
              "\n",
              "  .colab-df-quickchart-complete:disabled,\n",
              "  .colab-df-quickchart-complete:disabled:hover {\n",
              "    background-color: var(--disabled-bg-color);\n",
              "    fill: var(--disabled-fill-color);\n",
              "    box-shadow: none;\n",
              "  }\n",
              "\n",
              "  .colab-df-spinner {\n",
              "    border: 2px solid var(--fill-color);\n",
              "    border-color: transparent;\n",
              "    border-bottom-color: var(--fill-color);\n",
              "    animation:\n",
              "      spin 1s steps(1) infinite;\n",
              "  }\n",
              "\n",
              "  @keyframes spin {\n",
              "    0% {\n",
              "      border-color: transparent;\n",
              "      border-bottom-color: var(--fill-color);\n",
              "      border-left-color: var(--fill-color);\n",
              "    }\n",
              "    20% {\n",
              "      border-color: transparent;\n",
              "      border-left-color: var(--fill-color);\n",
              "      border-top-color: var(--fill-color);\n",
              "    }\n",
              "    30% {\n",
              "      border-color: transparent;\n",
              "      border-left-color: var(--fill-color);\n",
              "      border-top-color: var(--fill-color);\n",
              "      border-right-color: var(--fill-color);\n",
              "    }\n",
              "    40% {\n",
              "      border-color: transparent;\n",
              "      border-right-color: var(--fill-color);\n",
              "      border-top-color: var(--fill-color);\n",
              "    }\n",
              "    60% {\n",
              "      border-color: transparent;\n",
              "      border-right-color: var(--fill-color);\n",
              "    }\n",
              "    80% {\n",
              "      border-color: transparent;\n",
              "      border-right-color: var(--fill-color);\n",
              "      border-bottom-color: var(--fill-color);\n",
              "    }\n",
              "    90% {\n",
              "      border-color: transparent;\n",
              "      border-bottom-color: var(--fill-color);\n",
              "    }\n",
              "  }\n",
              "</style>\n",
              "\n",
              "  <script>\n",
              "    async function quickchart(key) {\n",
              "      const quickchartButtonEl =\n",
              "        document.querySelector('#' + key + ' button');\n",
              "      quickchartButtonEl.disabled = true;  // To prevent multiple clicks.\n",
              "      quickchartButtonEl.classList.add('colab-df-spinner');\n",
              "      try {\n",
              "        const charts = await google.colab.kernel.invokeFunction(\n",
              "            'suggestCharts', [key], {});\n",
              "      } catch (error) {\n",
              "        console.error('Error during call to suggestCharts:', error);\n",
              "      }\n",
              "      quickchartButtonEl.classList.remove('colab-df-spinner');\n",
              "      quickchartButtonEl.classList.add('colab-df-quickchart-complete');\n",
              "    }\n",
              "    (() => {\n",
              "      let quickchartButtonEl =\n",
              "        document.querySelector('#df-02e0a4f2-a53d-4e3f-a5f0-c2796b30c450 button');\n",
              "      quickchartButtonEl.style.display =\n",
              "        google.colab.kernel.accessAllowed ? 'block' : 'none';\n",
              "    })();\n",
              "  </script>\n",
              "</div>\n",
              "\n",
              "    </div>\n",
              "  </div>\n"
            ],
            "application/vnd.google.colaboratory.intrinsic+json": {
              "type": "dataframe",
              "summary": "{\n  \"name\": \"train_data\",\n  \"rows\": 8,\n  \"fields\": [\n    {\n      \"column\": \"id\",\n      \"properties\": {\n        \"dtype\": \"number\",\n        \"std\": 49169.45269687769,\n        \"min\": 0.0,\n        \"max\": 136429.0,\n        \"samples\": [\n          136429.0,\n          68214.0,\n          102321.0\n        ],\n        \"num_unique_values\": 7,\n        \"semantic_type\": \"\",\n        \"description\": \"\"\n      }\n    },\n    {\n      \"column\": \"Air temperature [K]\",\n      \"properties\": {\n        \"dtype\": \"number\",\n        \"std\": 48144.08806081815,\n        \"min\": 1.862247075978346,\n        \"max\": 136429.0,\n        \"samples\": [\n          299.8627757661494,\n          300.0,\n          136429.0\n        ],\n        \"num_unique_values\": 8,\n        \"semantic_type\": \"\",\n        \"description\": \"\"\n      }\n    },\n    {\n      \"column\": \"Process temperature [K]\",\n      \"properties\": {\n        \"dtype\": \"number\",\n        \"std\": 48141.08582576143,\n        \"min\": 1.3851730847378383,\n        \"max\": 136429.0,\n        \"samples\": [\n          309.9410704468991,\n          310.0,\n          136429.0\n        ],\n        \"num_unique_values\": 8,\n        \"semantic_type\": \"\",\n        \"description\": \"\"\n      }\n    },\n    {\n      \"column\": \"Rotational speed [rpm]\",\n      \"properties\": {\n        \"dtype\": \"number\",\n        \"std\": 47723.99155827315,\n        \"min\": 138.736631965057,\n        \"max\": 136429.0,\n        \"samples\": [\n          1520.3311099546283,\n          1493.0,\n          136429.0\n        ],\n        \"num_unique_values\": 8,\n        \"semantic_type\": \"\",\n        \"description\": \"\"\n      }\n    },\n    {\n      \"column\": \"Torque [Nm]\",\n      \"properties\": {\n        \"dtype\": \"number\",\n        \"std\": 48222.296204257436,\n        \"min\": 3.8,\n        \"max\": 136429.0,\n        \"samples\": [\n          40.34864310373894,\n          40.4,\n          136429.0\n        ],\n        \"num_unique_values\": 8,\n        \"semantic_type\": \"\",\n        \"description\": \"\"\n      }\n    },\n    {\n      \"column\": \"Tool wear [min]\",\n      \"properties\": {\n        \"dtype\": \"number\",\n        \"std\": 48197.904474120776,\n        \"min\": 0.0,\n        \"max\": 136429.0,\n        \"samples\": [\n          104.40890133329424,\n          106.0,\n          136429.0\n        ],\n        \"num_unique_values\": 8,\n        \"semantic_type\": \"\",\n        \"description\": \"\"\n      }\n    },\n    {\n      \"column\": \"Machine failure\",\n      \"properties\": {\n        \"dtype\": \"number\",\n        \"std\": 48234.87793616149,\n        \"min\": 0.0,\n        \"max\": 136429.0,\n        \"samples\": [\n          0.01574445315878589,\n          1.0,\n          0.12448565757300104\n        ],\n        \"num_unique_values\": 5,\n        \"semantic_type\": \"\",\n        \"description\": \"\"\n      }\n    },\n    {\n      \"column\": \"TWF\",\n      \"properties\": {\n        \"dtype\": \"number\",\n        \"std\": 48234.882950930456,\n        \"min\": 0.0,\n        \"max\": 136429.0,\n        \"samples\": [\n          0.0015539218201408792,\n          1.0,\n          0.03938931986553078\n        ],\n        \"num_unique_values\": 5,\n        \"semantic_type\": \"\",\n        \"description\": \"\"\n      }\n    },\n    {\n      \"column\": \"HDF\",\n      \"properties\": {\n        \"dtype\": \"number\",\n        \"std\": 48234.881139407145,\n        \"min\": 0.0,\n        \"max\": 136429.0,\n        \"samples\": [\n          0.005160193214052731,\n          1.0,\n          0.07164916781396459\n        ],\n        \"num_unique_values\": 5,\n        \"semantic_type\": \"\",\n        \"description\": \"\"\n      }\n    },\n    {\n      \"column\": \"PWF\",\n      \"properties\": {\n        \"dtype\": \"number\",\n        \"std\": 48234.882428035424,\n        \"min\": 0.0,\n        \"max\": 136429.0,\n        \"samples\": [\n          0.002396851109368243,\n          1.0,\n          0.0488991179944399\n        ],\n        \"num_unique_values\": 5,\n        \"semantic_type\": \"\",\n        \"description\": \"\"\n      }\n    },\n    {\n      \"column\": \"OSF\",\n      \"properties\": {\n        \"dtype\": \"number\",\n        \"std\": 48234.88164762808,\n        \"min\": 0.0,\n        \"max\": 136429.0,\n        \"samples\": [\n          0.003958102749415447,\n          1.0,\n          0.06278905214764326\n        ],\n        \"num_unique_values\": 5,\n        \"semantic_type\": \"\",\n        \"description\": \"\"\n      }\n    },\n    {\n      \"column\": \"RNF\",\n      \"properties\": {\n        \"dtype\": \"number\",\n        \"std\": 48234.8825077283,\n        \"min\": 0.0,\n        \"max\": 136429.0,\n        \"samples\": [\n          0.0022575845311480695,\n          1.0,\n          0.04746055576670001\n        ],\n        \"num_unique_values\": 5,\n        \"semantic_type\": \"\",\n        \"description\": \"\"\n      }\n    }\n  ]\n}"
            }
          },
          "metadata": {},
          "execution_count": 41
        }
      ],
      "source": [
        "train_data.describe()"
      ]
    },
    {
      "cell_type": "markdown",
      "source": [
        "Maybe use this **Product ID** to check if the number of a specific Product influence the **failure rate**."
      ],
      "metadata": {
        "id": "H1CBn2_LmmAb"
      }
    },
    {
      "cell_type": "code",
      "execution_count": null,
      "metadata": {
        "colab": {
          "base_uri": "https://localhost:8080/"
        },
        "id": "seC-_6g91J1s",
        "outputId": "1f51be86-d5e8-4e0a-fbef-4f134f0f2a63"
      },
      "outputs": [
        {
          "output_type": "execute_result",
          "data": {
            "text/plain": [
              "L53257    139\n",
              "L49056    131\n",
              "L53271    131\n",
              "L54275    120\n",
              "L48892    120\n",
              "         ... \n",
              "M24614      1\n",
              "H39399      1\n",
              "M15853      1\n",
              "H32637      1\n",
              "L48036      1\n",
              "Name: Product ID, Length: 9976, dtype: int64"
            ]
          },
          "metadata": {},
          "execution_count": 42
        }
      ],
      "source": [
        "train_data['Product ID'].value_counts()"
      ]
    },
    {
      "cell_type": "code",
      "execution_count": null,
      "metadata": {
        "colab": {
          "base_uri": "https://localhost:8080/",
          "height": 471
        },
        "id": "VrpyryFT1J1t",
        "outputId": "ded8f029-de75-4a66-99b0-5b166ff4b811"
      },
      "outputs": [
        {
          "output_type": "execute_result",
          "data": {
            "text/plain": [
              "Text(0.5, 0, 'Type')"
            ]
          },
          "metadata": {},
          "execution_count": 43
        },
        {
          "output_type": "display_data",
          "data": {
            "text/plain": [
              "<Figure size 640x480 with 1 Axes>"
            ],
            "image/png": "[encoded data removed]"
          },
          "metadata": {}
        }
      ],
      "source": [
        "class_counts = train_data['Type'].value_counts()\n",
        "sns.barplot(x= class_counts.index, y= class_counts.values, hue= class_counts.index, palette='deep')\n",
        "sns.despine()\n",
        "plt.ylabel('Count')\n",
        "plt.xlabel('Type')"
      ]
    },
    {
      "cell_type": "code",
      "execution_count": null,
      "metadata": {
        "colab": {
          "base_uri": "https://localhost:8080/",
          "height": 469
        },
        "id": "_Y2oCeJX1J1t",
        "outputId": "b2773443-5a9a-402d-ebe1-0da53e01f433"
      },
      "outputs": [
        {
          "output_type": "execute_result",
          "data": {
            "text/plain": [
              "Text(0.5, 0, 'Failure')"
            ]
          },
          "metadata": {},
          "execution_count": 44
        },
        {
          "output_type": "display_data",
          "data": {
            "text/plain": [
              "<Figure size 640x480 with 1 Axes>"
            ],
            "image/png": "[encoded data removed]"
          },
          "metadata": {}
        }
      ],
      "source": [
        "class_counts = train_data['Machine failure'].value_counts()\n",
        "sns.barplot(x= class_counts.index, y= class_counts.values, hue= class_counts.index, palette='deep')\n",
        "sns.despine()\n",
        "plt.ylabel('Count')\n",
        "plt.xlabel('Failure')"
      ]
    },
    {
      "cell_type": "markdown",
      "metadata": {
        "id": "rzdVWsQ11J1t"
      },
      "source": [
        "Very imbalanced data!!"
      ]
    },
    {
      "cell_type": "code",
      "execution_count": null,
      "metadata": {
        "colab": {
          "base_uri": "https://localhost:8080/"
        },
        "id": "Hke2C6Sw1J1t",
        "outputId": "722c2001-0476-4b8a-f512-a3bad876d950"
      },
      "outputs": [
        {
          "output_type": "execute_result",
          "data": {
            "text/plain": [
              "id                         0\n",
              "Product ID                 0\n",
              "Type                       0\n",
              "Air temperature [K]        0\n",
              "Process temperature [K]    0\n",
              "Rotational speed [rpm]     0\n",
              "Torque [Nm]                0\n",
              "Tool wear [min]            0\n",
              "Machine failure            0\n",
              "TWF                        0\n",
              "HDF                        0\n",
              "PWF                        0\n",
              "OSF                        0\n",
              "RNF                        0\n",
              "dtype: int64"
            ]
          },
          "metadata": {},
          "execution_count": 45
        }
      ],
      "source": [
        "train_data.isna().sum()"
      ]
    },
    {
      "cell_type": "code",
      "source": [
        "sns.heatmap(train_data[['Air temperature [K]','Process temperature [K]',\n",
        "                        'Rotational speed [rpm]', 'Torque [Nm]', 'Tool wear [min]', 'Machine failure']].corr(),\n",
        "            annot=True)"
      ],
      "metadata": {
        "id": "PKPN6ZD63jEn",
        "outputId": "d0e6761d-ba83-4c0d-b8e8-6cbfd3ba6000",
        "colab": {
          "base_uri": "https://localhost:8080/",
          "height": 607
        }
      },
      "execution_count": null,
      "outputs": [
        {
          "output_type": "execute_result",
          "data": {
            "text/plain": [
              "<Axes: >"
            ]
          },
          "metadata": {},
          "execution_count": 46
        },
        {
          "output_type": "display_data",
          "data": {
            "text/plain": [
              "<Figure size 640x480 with 2 Axes>"
            ],
            "image/png": "[encoded data removed]"
          },
          "metadata": {}
        }
      ]
    },
    {
      "cell_type": "markdown",
      "source": [
        "Apparently none of the other features interferes (alone) that much to Machine Failure."
      ],
      "metadata": {
        "id": "9fMlL2tE7jpU"
      }
    },
    {
      "cell_type": "markdown",
      "metadata": {
        "id": "njGm9Os11J1t"
      },
      "source": [
        "### Cleaning data function"
      ]
    },
    {
      "cell_type": "code",
      "source": [
        "def count_products(dataframe):\n",
        "  #products = pd.DataFrame(dataframe['Product ID'].value_counts().reset_index())\n",
        "  #products.rename(columns= {'Product ID': 'Product ID Count',\n",
        "  #                          'index': 'Product ID'}, inplace=True)\n",
        "  # = dataframe.merge(right= products, how= 'inner', on= 'Product ID')\n",
        "\n",
        "  dataframe.drop(columns=['id', 'Product ID'], axis=1, inplace=True)\n",
        "\n",
        "  return dataframe"
      ],
      "metadata": {
        "id": "9KUWIaGAVkvT"
      },
      "execution_count": 84,
      "outputs": []
    },
    {
      "cell_type": "markdown",
      "source": [
        "What I intended to do with this function seemed to cause trouble. The AUC and ROC curve were very low, practically the same as a random guess."
      ],
      "metadata": {
        "id": "-UjIPTpi5-pA"
      }
    },
    {
      "cell_type": "markdown",
      "source": [
        "# Setting up the pipeline"
      ],
      "metadata": {
        "id": "r9aIfShPE1E5"
      }
    },
    {
      "cell_type": "code",
      "source": [
        "from sklearn.pipeline import Pipeline\n",
        "from imblearn.pipeline import make_pipeline\n",
        "from sklearn.preprocessing import OneHotEncoder\n",
        "from sklearn.compose import ColumnTransformer\n",
        "from sklearn.preprocessing import FunctionTransformer\n",
        "from sklearn.naive_bayes import ComplementNB, MultinomialNB\n",
        "from sklearn.neighbors import KNeighborsClassifier\n",
        "from sklearn.model_selection import train_test_split\n",
        "from imblearn.over_sampling import SMOTE\n",
        "\n",
        "import xgboost as xgb\n",
        "\n",
        "\n",
        "pipeline = make_pipeline(\n",
        "    FunctionTransformer(count_products),\n",
        "    ColumnTransformer(\n",
        "        transformers=[('onehot', OneHotEncoder(), ['Type'])],\n",
        "        remainder= 'passthrough', verbose_feature_names_out = False),\n",
        "    SMOTE(random_state=42),\n",
        "    xgb.XGBClassifier()\n",
        ")\n",
        "\n",
        "\n",
        "X = train_data.drop('Machine failure', axis=1)\n",
        "y = train_data['Machine failure']\n",
        "\n",
        "X_train, X_test, y_train, y_test = train_test_split(X, y, test_size=0.33, random_state=42, stratify=y)\n",
        "\n",
        "\n",
        "pipeline.fit(X_train, y_train)\n",
        "\n",
        "y_pred = pipeline.predict_proba(X_test)"
      ],
      "metadata": {
        "id": "HuQgqJ8KN5CC"
      },
      "execution_count": 126,
      "outputs": []
    },
    {
      "cell_type": "code",
      "source": [
        "from sklearn.metrics import roc_curve, auc\n",
        "import matplotlib.pyplot as plt\n",
        "\n",
        "# Compute ROC curve and AUC\n",
        "fpr, tpr, thresholds = roc_curve(y_test, y_pred[:,1])\n",
        "roc_auc = auc(fpr, tpr)\n",
        "\n",
        "# Plot ROC curve\n",
        "plt.figure(figsize=(8, 6))\n",
        "plt.plot(fpr, tpr, color='darkorange', lw=2, label=f'ROC curve (AUC = {roc_auc:.2f})')\n",
        "plt.plot([0, 1], [0, 1], color='navy', lw=2, linestyle='--', label='Random Guessing')\n",
        "plt.xlabel('False Positive Rate')\n",
        "plt.ylabel('True Positive Rate')\n",
        "plt.title('Receiver Operating Characteristic (ROC) Curve')\n",
        "plt.legend(loc='lower right')\n",
        "plt.show()"
      ],
      "metadata": {
        "colab": {
          "base_uri": "https://localhost:8080/",
          "height": 564
        },
        "id": "u8NR98QW_XVL",
        "outputId": "9066fbcd-170d-4806-aca8-fc52d2283b99"
      },
      "execution_count": 127,
      "outputs": [
        {
          "output_type": "display_data",
          "data": {
            "text/plain": [
              "<Figure size 800x600 with 1 Axes>"
            ],
            "image/png": "[encoded data removed]"
          },
          "metadata": {}
        }
      ]
    },
    {
      "cell_type": "code",
      "source": [
        "from sklearn.metrics import classification_report, confusion_matrix\n",
        "import seaborn as sns\n",
        "import matplotlib.pyplot as plt\n",
        "\n",
        "sns.heatmap(confusion_matrix(y_pred=y_pred, y_true=y_test), annot=True, fmt='.10g')\n",
        "plt.ylabel('True Value')\n",
        "plt.xlabel('Predicted Value')\n",
        "print(classification_report(y_pred=y_pred, y_true=y_test))"
      ],
      "metadata": {
        "id": "PFvZOhRAQTdc",
        "outputId": "fc1e7e3b-bb02-4030-d1f8-062eb4d611bd",
        "colab": {
          "base_uri": "https://localhost:8080/",
          "height": 605
        }
      },
      "execution_count": 114,
      "outputs": [
        {
          "output_type": "stream",
          "name": "stdout",
          "text": [
            "              precision    recall  f1-score   support\n",
            "\n",
            "           0       1.00      1.00      1.00     44313\n",
            "           1       0.91      0.78      0.84       709\n",
            "\n",
            "    accuracy                           1.00     45022\n",
            "   macro avg       0.96      0.89      0.92     45022\n",
            "weighted avg       1.00      1.00      1.00     45022\n",
            "\n"
          ]
        },
        {
          "output_type": "display_data",
          "data": {
            "text/plain": [
              "<Figure size 640x480 with 2 Axes>"
            ],
            "image/png": "[encoded data removed]"
          },
          "metadata": {}
        }
      ]
    }
  ],
  "metadata": {
    "kernelspec": {
      "display_name": "Python 3",
      "language": "python",
      "name": "python3"
    },
    "language_info": {
      "codemirror_mode": {
        "name": "ipython",
        "version": 3
      },
      "file_extension": ".py",
      "mimetype": "text/x-python",
      "name": "python",
      "nbconvert_exporter": "python",
      "pygments_lexer": "ipython3",
      "version": "3.11.4"
    },
    "orig_nbformat": 4,
    "colab": {
      "provenance": []
    }
  },
  "nbformat": 4,
  "nbformat_minor": 0
}